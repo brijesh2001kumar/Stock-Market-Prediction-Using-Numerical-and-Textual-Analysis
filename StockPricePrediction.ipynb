{
 "cells": [
  {
   "cell_type": "markdown",
   "id": "c42c786b",
   "metadata": {},
   "source": [
    "# ........................................The Spark Foundation..................................................\n",
    "\n",
    "\n",
    "## ..........................Data Science and Business Analytics Internship......................................\n",
    "\n",
    "## ................Stock Market Prediction using Numerical and Textual Analysis........................\n",
    "\n",
    "### .................................................................................................................................................................. Brijesh Kumar"
   ]
  },
  {
   "cell_type": "markdown",
   "id": "fa24b442",
   "metadata": {},
   "source": [
    "## Importing Libraries"
   ]
  },
  {
   "cell_type": "code",
   "execution_count": null,
   "id": "33423b67",
   "metadata": {},
   "outputs": [],
   "source": [
    "!pip install textblob\n",
    "!pip install vaderSentiment\n",
    "!pip install statsmodels"
   ]
  },
  {
   "cell_type": "code",
   "execution_count": 105,
   "id": "176e8b27",
   "metadata": {},
   "outputs": [],
   "source": [
    "import numpy as np\n",
    "import matplotlib.pyplot as plt\n",
    "import pandas as pd\n",
    "\n",
    "from pandas_datareader import data as pdr\n",
    "import yfinance as yf\n",
    "\n",
    "import statsmodels.api as sms\n",
    "from statsmodels.tsa.stattools import adfuller\n",
    "\n",
    "from vaderSentiment.vaderSentiment import SentimentIntensityAnalyzer\n",
    "from textblob import TextBlob\n",
    "\n",
    "from math import sqrt\n",
    "from sklearn.ensemble import RandomForestRegressor\n",
    "from sklearn.metrics import mean_squared_error"
   ]
  },
  {
   "cell_type": "markdown",
   "id": "e21bc612",
   "metadata": {},
   "source": [
    " ## Defining Helping functions"
   ]
  },
  {
   "cell_type": "code",
   "execution_count": null,
   "id": "558c8cb4",
   "metadata": {},
   "outputs": [],
   "source": [
    "#function to get subjectivity of news headlines\n",
    "def getSubjectivity(text):\n",
    "    return TextBlob(text).sentiment.subjectivity\n",
    "\n",
    "#function to get polarity of news headlines\n",
    "def getPolarity(text):\n",
    "    return TextBlob(text).sentiment.polarity\n",
    "\n",
    "#function to get sentiment scores of news headlines\n",
    "def getSIA(text):\n",
    "    sia = SentimentIntensityAnalyzer()\n",
    "    sentiment = sia.polarity_scores(text)\n",
    "    return sentiment"
   ]
  },
  {
   "cell_type": "markdown",
   "id": "6938fb65",
   "metadata": {},
   "source": [
    "## Downloading Data"
   ]
  },
  {
   "cell_type": "markdown",
   "id": "168c8d89",
   "metadata": {},
   "source": [
    " Download stock price data"
   ]
  },
  {
   "cell_type": "code",
   "execution_count": 5,
   "id": "0e2383fc",
   "metadata": {},
   "outputs": [],
   "source": [
    "yf.pdr_override()\n",
    "stock_data = pdr.get_data_yahoo('^BESN', start = '2001-01-01', end = '2022-03-31')\n",
    "\n",
    "# stock_data.to_excel('stock_price.xlsx')  #storing data locally"
   ]
  },
  {
   "cell_type": "markdown",
   "id": "458fceae",
   "metadata": {},
   "source": [
    "Download News headline data"
   ]
  },
  {
   "cell_type": "code",
   "execution_count": 6,
   "id": "abadf855",
   "metadata": {},
   "outputs": [],
   "source": [
    "news_data = pd.read_csv('india-news-headlines.csv')"
   ]
  },
  {
   "cell_type": "markdown",
   "id": "500a1253",
   "metadata": {},
   "source": [
    "## Exploring stock_price data"
   ]
  },
  {
   "cell_type": "code",
   "execution_count": 7,
   "id": "81421309",
   "metadata": {},
   "outputs": [
    {
     "name": "stdout",
     "output_type": "stream",
     "text": [
      "<class 'pandas.core.frame.DataFrame'>\n",
      "RangeIndex: 5234 entries, 0 to 5233\n",
      "Data columns (total 7 columns):\n",
      " #   Column     Non-Null Count  Dtype         \n",
      "---  ------     --------------  -----         \n",
      " 0   Date       5234 non-null   datetime64[ns]\n",
      " 1   Open       5234 non-null   float64       \n",
      " 2   High       5234 non-null   float64       \n",
      " 3   Low        5234 non-null   float64       \n",
      " 4   Close      5234 non-null   float64       \n",
      " 5   Adj Close  5234 non-null   float64       \n",
      " 6   Volume     5234 non-null   int64         \n",
      "dtypes: datetime64[ns](1), float64(5), int64(1)\n",
      "memory usage: 286.4 KB\n"
     ]
    }
   ],
   "source": [
    "stock_data.info()"
   ]
  },
  {
   "cell_type": "code",
   "execution_count": 15,
   "id": "480566d7",
   "metadata": {},
   "outputs": [],
   "source": [
    "stock_data=stock_data.set_index('Date')"
   ]
  },
  {
   "cell_type": "code",
   "execution_count": 107,
   "id": "6d39e240",
   "metadata": {},
   "outputs": [
    {
     "data": {
      "text/html": [
       "<div>\n",
       "<style scoped>\n",
       "    .dataframe tbody tr th:only-of-type {\n",
       "        vertical-align: middle;\n",
       "    }\n",
       "\n",
       "    .dataframe tbody tr th {\n",
       "        vertical-align: top;\n",
       "    }\n",
       "\n",
       "    .dataframe thead th {\n",
       "        text-align: right;\n",
       "    }\n",
       "</style>\n",
       "<table border=\"1\" class=\"dataframe\">\n",
       "  <thead>\n",
       "    <tr style=\"text-align: right;\">\n",
       "      <th></th>\n",
       "      <th>Open</th>\n",
       "      <th>High</th>\n",
       "      <th>Low</th>\n",
       "      <th>Close</th>\n",
       "      <th>Adj Close</th>\n",
       "      <th>Volume</th>\n",
       "    </tr>\n",
       "    <tr>\n",
       "      <th>Date</th>\n",
       "      <th></th>\n",
       "      <th></th>\n",
       "      <th></th>\n",
       "      <th></th>\n",
       "      <th></th>\n",
       "      <th></th>\n",
       "    </tr>\n",
       "  </thead>\n",
       "  <tbody>\n",
       "    <tr>\n",
       "      <th>2001-01-02</th>\n",
       "      <td>3953.219971</td>\n",
       "      <td>4028.570068</td>\n",
       "      <td>3929.370117</td>\n",
       "      <td>4018.879883</td>\n",
       "      <td>4018.879883</td>\n",
       "      <td>0</td>\n",
       "    </tr>\n",
       "    <tr>\n",
       "      <th>2001-01-03</th>\n",
       "      <td>3977.580078</td>\n",
       "      <td>4067.659912</td>\n",
       "      <td>3977.580078</td>\n",
       "      <td>4060.020020</td>\n",
       "      <td>4060.020020</td>\n",
       "      <td>0</td>\n",
       "    </tr>\n",
       "    <tr>\n",
       "      <th>2001-01-04</th>\n",
       "      <td>4180.970215</td>\n",
       "      <td>4180.970215</td>\n",
       "      <td>4109.549805</td>\n",
       "      <td>4115.370117</td>\n",
       "      <td>4115.370117</td>\n",
       "      <td>0</td>\n",
       "    </tr>\n",
       "    <tr>\n",
       "      <th>2001-01-05</th>\n",
       "      <td>4116.339844</td>\n",
       "      <td>4195.009766</td>\n",
       "      <td>4115.350098</td>\n",
       "      <td>4183.729980</td>\n",
       "      <td>4183.729980</td>\n",
       "      <td>0</td>\n",
       "    </tr>\n",
       "    <tr>\n",
       "      <th>2001-01-08</th>\n",
       "      <td>4164.759766</td>\n",
       "      <td>4206.720215</td>\n",
       "      <td>4101.529785</td>\n",
       "      <td>4120.430176</td>\n",
       "      <td>4120.430176</td>\n",
       "      <td>0</td>\n",
       "    </tr>\n",
       "  </tbody>\n",
       "</table>\n",
       "</div>"
      ],
      "text/plain": [
       "                   Open         High          Low        Close    Adj Close  \\\n",
       "Date                                                                          \n",
       "2001-01-02  3953.219971  4028.570068  3929.370117  4018.879883  4018.879883   \n",
       "2001-01-03  3977.580078  4067.659912  3977.580078  4060.020020  4060.020020   \n",
       "2001-01-04  4180.970215  4180.970215  4109.549805  4115.370117  4115.370117   \n",
       "2001-01-05  4116.339844  4195.009766  4115.350098  4183.729980  4183.729980   \n",
       "2001-01-08  4164.759766  4206.720215  4101.529785  4120.430176  4120.430176   \n",
       "\n",
       "            Volume  \n",
       "Date                \n",
       "2001-01-02       0  \n",
       "2001-01-03       0  \n",
       "2001-01-04       0  \n",
       "2001-01-05       0  \n",
       "2001-01-08       0  "
      ]
     },
     "execution_count": 107,
     "metadata": {},
     "output_type": "execute_result"
    }
   ],
   "source": [
    "stock_data.head()"
   ]
  },
  {
   "cell_type": "code",
   "execution_count": 108,
   "id": "cef5cdfd",
   "metadata": {},
   "outputs": [
    {
     "data": {
      "text/html": [
       "<div>\n",
       "<style scoped>\n",
       "    .dataframe tbody tr th:only-of-type {\n",
       "        vertical-align: middle;\n",
       "    }\n",
       "\n",
       "    .dataframe tbody tr th {\n",
       "        vertical-align: top;\n",
       "    }\n",
       "\n",
       "    .dataframe thead th {\n",
       "        text-align: right;\n",
       "    }\n",
       "</style>\n",
       "<table border=\"1\" class=\"dataframe\">\n",
       "  <thead>\n",
       "    <tr style=\"text-align: right;\">\n",
       "      <th></th>\n",
       "      <th>Open</th>\n",
       "      <th>High</th>\n",
       "      <th>Low</th>\n",
       "      <th>Close</th>\n",
       "      <th>Adj Close</th>\n",
       "      <th>Volume</th>\n",
       "    </tr>\n",
       "    <tr>\n",
       "      <th>Date</th>\n",
       "      <th></th>\n",
       "      <th></th>\n",
       "      <th></th>\n",
       "      <th></th>\n",
       "      <th></th>\n",
       "      <th></th>\n",
       "    </tr>\n",
       "  </thead>\n",
       "  <tbody>\n",
       "    <tr>\n",
       "      <th>2022-03-24</th>\n",
       "      <td>57190.050781</td>\n",
       "      <td>57827.988281</td>\n",
       "      <td>57138.511719</td>\n",
       "      <td>57595.679688</td>\n",
       "      <td>57595.679688</td>\n",
       "      <td>51400</td>\n",
       "    </tr>\n",
       "    <tr>\n",
       "      <th>2022-03-25</th>\n",
       "      <td>57801.718750</td>\n",
       "      <td>57845.371094</td>\n",
       "      <td>57100.238281</td>\n",
       "      <td>57362.199219</td>\n",
       "      <td>57362.199219</td>\n",
       "      <td>6900</td>\n",
       "    </tr>\n",
       "    <tr>\n",
       "      <th>2022-03-28</th>\n",
       "      <td>57472.718750</td>\n",
       "      <td>57638.339844</td>\n",
       "      <td>56825.089844</td>\n",
       "      <td>57593.488281</td>\n",
       "      <td>57593.488281</td>\n",
       "      <td>6300</td>\n",
       "    </tr>\n",
       "    <tr>\n",
       "      <th>2022-03-29</th>\n",
       "      <td>57814.761719</td>\n",
       "      <td>58001.531250</td>\n",
       "      <td>57639.351562</td>\n",
       "      <td>57943.648438</td>\n",
       "      <td>57943.648438</td>\n",
       "      <td>12100</td>\n",
       "    </tr>\n",
       "    <tr>\n",
       "      <th>2022-03-30</th>\n",
       "      <td>58362.851562</td>\n",
       "      <td>58727.781250</td>\n",
       "      <td>58176.000000</td>\n",
       "      <td>58683.988281</td>\n",
       "      <td>58683.988281</td>\n",
       "      <td>6300</td>\n",
       "    </tr>\n",
       "  </tbody>\n",
       "</table>\n",
       "</div>"
      ],
      "text/plain": [
       "                    Open          High           Low         Close  \\\n",
       "Date                                                                 \n",
       "2022-03-24  57190.050781  57827.988281  57138.511719  57595.679688   \n",
       "2022-03-25  57801.718750  57845.371094  57100.238281  57362.199219   \n",
       "2022-03-28  57472.718750  57638.339844  56825.089844  57593.488281   \n",
       "2022-03-29  57814.761719  58001.531250  57639.351562  57943.648438   \n",
       "2022-03-30  58362.851562  58727.781250  58176.000000  58683.988281   \n",
       "\n",
       "               Adj Close  Volume  \n",
       "Date                              \n",
       "2022-03-24  57595.679688   51400  \n",
       "2022-03-25  57362.199219    6900  \n",
       "2022-03-28  57593.488281    6300  \n",
       "2022-03-29  57943.648438   12100  \n",
       "2022-03-30  58683.988281    6300  "
      ]
     },
     "execution_count": 108,
     "metadata": {},
     "output_type": "execute_result"
    }
   ],
   "source": [
    "stock_data.tail()"
   ]
  },
  {
   "cell_type": "code",
   "execution_count": 18,
   "id": "9d2c7859",
   "metadata": {},
   "outputs": [
    {
     "data": {
      "text/plain": [
       "<AxesSubplot: xlabel='Date'>"
      ]
     },
     "execution_count": 18,
     "metadata": {},
     "output_type": "execute_result"
    },
    {
     "data": {
      "image/png": "[encoded data removed]",
      "text/plain": [
       "<Figure size 1008x432 with 1 Axes>"
      ]
     },
     "metadata": {
      "needs_background": "light"
     },
     "output_type": "display_data"
    }
   ],
   "source": [
    "stock_data.Close.plot(figsize = (14,6))"
   ]
  },
  {
   "cell_type": "markdown",
   "id": "d2fa8f23",
   "metadata": {},
   "source": [
    " check whether data is stationary or not"
   ]
  },
  {
   "cell_type": "code",
   "execution_count": 19,
   "id": "16af1325",
   "metadata": {},
   "outputs": [
    {
     "name": "stdout",
     "output_type": "stream",
     "text": [
      "ADF Statistics: 1.0860486966351672\n",
      "p-value: 0.995095777362035\n",
      "Weak evidence against null hypothesis, time series has a unit root, indicating it is non-stationary.\n"
     ]
    }
   ],
   "source": [
    "result=adfuller(stock_data.Close)\n",
    "print('ADF Statistics: {}'.format(result[0]))\n",
    "print('p-value: {}'.format(result[1]))\n",
    "if(result[1]<=0.05):\n",
    "    print('strong evidence against the null hypothesis , reject the null hypothesis. Data has no unit root and is stationary.')\n",
    "else:\n",
    "    print('Weak evidence against null hypothesis, time series has a unit root, indicating it is non-stationary.')"
   ]
  },
  {
   "cell_type": "markdown",
   "id": "cb2f8295",
   "metadata": {},
   "source": [
    "create extra features for prediction"
   ]
  },
  {
   "cell_type": "code",
   "execution_count": 21,
   "id": "b7c56863",
   "metadata": {},
   "outputs": [
    {
     "name": "stderr",
     "output_type": "stream",
     "text": [
      "<ipython-input-21-1c7ce16ed949>:7: FutureWarning: weekofyear and week have been deprecated, please use DatetimeIndex.isocalendar().week instead, which returns a Series.  To exactly reproduce the behavior of week and weekofyear and return an Index, you may call pd.Int64Index(idx.isocalendar().week)\n",
      "  stock_data[\"week\"] = stock_data.index.week\n"
     ]
    },
    {
     "data": {
      "text/html": [
       "<div>\n",
       "<style scoped>\n",
       "    .dataframe tbody tr th:only-of-type {\n",
       "        vertical-align: middle;\n",
       "    }\n",
       "\n",
       "    .dataframe tbody tr th {\n",
       "        vertical-align: top;\n",
       "    }\n",
       "\n",
       "    .dataframe thead th {\n",
       "        text-align: right;\n",
       "    }\n",
       "</style>\n",
       "<table border=\"1\" class=\"dataframe\">\n",
       "  <thead>\n",
       "    <tr style=\"text-align: right;\">\n",
       "      <th></th>\n",
       "      <th>Open</th>\n",
       "      <th>High</th>\n",
       "      <th>Low</th>\n",
       "      <th>Close</th>\n",
       "      <th>Adj Close</th>\n",
       "      <th>Volume</th>\n",
       "      <th>5_dayRolling</th>\n",
       "      <th>20_dayRolling</th>\n",
       "      <th>65_dayRolling</th>\n",
       "      <th>month</th>\n",
       "      <th>day</th>\n",
       "      <th>dayofweek</th>\n",
       "      <th>week</th>\n",
       "    </tr>\n",
       "    <tr>\n",
       "      <th>Date</th>\n",
       "      <th></th>\n",
       "      <th></th>\n",
       "      <th></th>\n",
       "      <th></th>\n",
       "      <th></th>\n",
       "      <th></th>\n",
       "      <th></th>\n",
       "      <th></th>\n",
       "      <th></th>\n",
       "      <th></th>\n",
       "      <th></th>\n",
       "      <th></th>\n",
       "      <th></th>\n",
       "    </tr>\n",
       "  </thead>\n",
       "  <tbody>\n",
       "    <tr>\n",
       "      <th>2001-01-02</th>\n",
       "      <td>3953.219971</td>\n",
       "      <td>4028.570068</td>\n",
       "      <td>3929.370117</td>\n",
       "      <td>4018.879883</td>\n",
       "      <td>4018.879883</td>\n",
       "      <td>0</td>\n",
       "      <td>4018.879883</td>\n",
       "      <td>4018.879883</td>\n",
       "      <td>4018.879883</td>\n",
       "      <td>1</td>\n",
       "      <td>2</td>\n",
       "      <td>1</td>\n",
       "      <td>1</td>\n",
       "    </tr>\n",
       "    <tr>\n",
       "      <th>2001-01-03</th>\n",
       "      <td>3977.580078</td>\n",
       "      <td>4067.659912</td>\n",
       "      <td>3977.580078</td>\n",
       "      <td>4060.020020</td>\n",
       "      <td>4060.020020</td>\n",
       "      <td>0</td>\n",
       "      <td>4039.449951</td>\n",
       "      <td>4039.449951</td>\n",
       "      <td>4039.449951</td>\n",
       "      <td>1</td>\n",
       "      <td>3</td>\n",
       "      <td>2</td>\n",
       "      <td>1</td>\n",
       "    </tr>\n",
       "    <tr>\n",
       "      <th>2001-01-04</th>\n",
       "      <td>4180.970215</td>\n",
       "      <td>4180.970215</td>\n",
       "      <td>4109.549805</td>\n",
       "      <td>4115.370117</td>\n",
       "      <td>4115.370117</td>\n",
       "      <td>0</td>\n",
       "      <td>4064.756673</td>\n",
       "      <td>4064.756673</td>\n",
       "      <td>4064.756673</td>\n",
       "      <td>1</td>\n",
       "      <td>4</td>\n",
       "      <td>3</td>\n",
       "      <td>1</td>\n",
       "    </tr>\n",
       "    <tr>\n",
       "      <th>2001-01-05</th>\n",
       "      <td>4116.339844</td>\n",
       "      <td>4195.009766</td>\n",
       "      <td>4115.350098</td>\n",
       "      <td>4183.729980</td>\n",
       "      <td>4183.729980</td>\n",
       "      <td>0</td>\n",
       "      <td>4094.500000</td>\n",
       "      <td>4094.500000</td>\n",
       "      <td>4094.500000</td>\n",
       "      <td>1</td>\n",
       "      <td>5</td>\n",
       "      <td>4</td>\n",
       "      <td>1</td>\n",
       "    </tr>\n",
       "    <tr>\n",
       "      <th>2001-01-08</th>\n",
       "      <td>4164.759766</td>\n",
       "      <td>4206.720215</td>\n",
       "      <td>4101.529785</td>\n",
       "      <td>4120.430176</td>\n",
       "      <td>4120.430176</td>\n",
       "      <td>0</td>\n",
       "      <td>4099.686035</td>\n",
       "      <td>4099.686035</td>\n",
       "      <td>4099.686035</td>\n",
       "      <td>1</td>\n",
       "      <td>8</td>\n",
       "      <td>0</td>\n",
       "      <td>2</td>\n",
       "    </tr>\n",
       "  </tbody>\n",
       "</table>\n",
       "</div>"
      ],
      "text/plain": [
       "                   Open         High          Low        Close    Adj Close  \\\n",
       "Date                                                                          \n",
       "2001-01-02  3953.219971  4028.570068  3929.370117  4018.879883  4018.879883   \n",
       "2001-01-03  3977.580078  4067.659912  3977.580078  4060.020020  4060.020020   \n",
       "2001-01-04  4180.970215  4180.970215  4109.549805  4115.370117  4115.370117   \n",
       "2001-01-05  4116.339844  4195.009766  4115.350098  4183.729980  4183.729980   \n",
       "2001-01-08  4164.759766  4206.720215  4101.529785  4120.430176  4120.430176   \n",
       "\n",
       "            Volume  5_dayRolling  20_dayRolling  65_dayRolling  month  day  \\\n",
       "Date                                                                         \n",
       "2001-01-02       0   4018.879883    4018.879883    4018.879883      1    2   \n",
       "2001-01-03       0   4039.449951    4039.449951    4039.449951      1    3   \n",
       "2001-01-04       0   4064.756673    4064.756673    4064.756673      1    4   \n",
       "2001-01-05       0   4094.500000    4094.500000    4094.500000      1    5   \n",
       "2001-01-08       0   4099.686035    4099.686035    4099.686035      1    8   \n",
       "\n",
       "            dayofweek  week  \n",
       "Date                         \n",
       "2001-01-02          1     1  \n",
       "2001-01-03          2     1  \n",
       "2001-01-04          3     1  \n",
       "2001-01-05          4     1  \n",
       "2001-01-08          0     2  "
      ]
     },
     "execution_count": 21,
     "metadata": {},
     "output_type": "execute_result"
    }
   ],
   "source": [
    "stock_data['5_dayRolling']=stock_data.Close.rolling(window=5,min_periods=1).mean()\n",
    "stock_data['20_dayRolling']=stock_data.Close.rolling(window=20,min_periods=1).mean()\n",
    "stock_data['65_dayRolling']=stock_data.Close.rolling(window=65,min_periods=1).mean()\n",
    "stock_data[\"month\"] = stock_data.index.month\n",
    "stock_data[\"day\"] = stock_data.index.day\n",
    "stock_data[\"dayofweek\"] = stock_data.index.dayofweek\n",
    "stock_data[\"week\"] = stock_data.index.week\n",
    "stock_data.head()"
   ]
  },
  {
   "cell_type": "markdown",
   "id": "c382b995",
   "metadata": {},
   "source": [
    "## Exploring news headlines data"
   ]
  },
  {
   "cell_type": "code",
   "execution_count": 22,
   "id": "6cc725ba",
   "metadata": {},
   "outputs": [
    {
     "data": {
      "text/html": [
       "<div>\n",
       "<style scoped>\n",
       "    .dataframe tbody tr th:only-of-type {\n",
       "        vertical-align: middle;\n",
       "    }\n",
       "\n",
       "    .dataframe tbody tr th {\n",
       "        vertical-align: top;\n",
       "    }\n",
       "\n",
       "    .dataframe thead th {\n",
       "        text-align: right;\n",
       "    }\n",
       "</style>\n",
       "<table border=\"1\" class=\"dataframe\">\n",
       "  <thead>\n",
       "    <tr style=\"text-align: right;\">\n",
       "      <th></th>\n",
       "      <th>publish_date</th>\n",
       "      <th>headline_category</th>\n",
       "      <th>headline_text</th>\n",
       "    </tr>\n",
       "  </thead>\n",
       "  <tbody>\n",
       "    <tr>\n",
       "      <th>0</th>\n",
       "      <td>20010102</td>\n",
       "      <td>unknown</td>\n",
       "      <td>Status quo will not be disturbed at Ayodhya; s...</td>\n",
       "    </tr>\n",
       "    <tr>\n",
       "      <th>1</th>\n",
       "      <td>20010102</td>\n",
       "      <td>unknown</td>\n",
       "      <td>Fissures in Hurriyat over Pak visit</td>\n",
       "    </tr>\n",
       "    <tr>\n",
       "      <th>2</th>\n",
       "      <td>20010102</td>\n",
       "      <td>unknown</td>\n",
       "      <td>America's unwanted heading for India?</td>\n",
       "    </tr>\n",
       "    <tr>\n",
       "      <th>3</th>\n",
       "      <td>20010102</td>\n",
       "      <td>unknown</td>\n",
       "      <td>For bigwigs; it is destination Goa</td>\n",
       "    </tr>\n",
       "    <tr>\n",
       "      <th>4</th>\n",
       "      <td>20010102</td>\n",
       "      <td>unknown</td>\n",
       "      <td>Extra buses to clear tourist traffic</td>\n",
       "    </tr>\n",
       "  </tbody>\n",
       "</table>\n",
       "</div>"
      ],
      "text/plain": [
       "   publish_date headline_category  \\\n",
       "0      20010102           unknown   \n",
       "1      20010102           unknown   \n",
       "2      20010102           unknown   \n",
       "3      20010102           unknown   \n",
       "4      20010102           unknown   \n",
       "\n",
       "                                       headline_text  \n",
       "0  Status quo will not be disturbed at Ayodhya; s...  \n",
       "1                Fissures in Hurriyat over Pak visit  \n",
       "2              America's unwanted heading for India?  \n",
       "3                 For bigwigs; it is destination Goa  \n",
       "4               Extra buses to clear tourist traffic  "
      ]
     },
     "execution_count": 22,
     "metadata": {},
     "output_type": "execute_result"
    }
   ],
   "source": [
    "news_data.head()"
   ]
  },
  {
   "cell_type": "code",
   "execution_count": 24,
   "id": "1d39d2f6",
   "metadata": {},
   "outputs": [
    {
     "name": "stdout",
     "output_type": "stream",
     "text": [
      "<class 'pandas.core.frame.DataFrame'>\n",
      "RangeIndex: 3650970 entries, 0 to 3650969\n",
      "Data columns (total 3 columns):\n",
      " #   Column             Dtype \n",
      "---  ------             ----- \n",
      " 0   publish_date       int64 \n",
      " 1   headline_category  object\n",
      " 2   headline_text      object\n",
      "dtypes: int64(1), object(2)\n",
      "memory usage: 83.6+ MB\n"
     ]
    }
   ],
   "source": [
    "news_data.info()"
   ]
  },
  {
   "cell_type": "markdown",
   "id": "4c7a7bee",
   "metadata": {},
   "source": [
    "check for duplicate rows"
   ]
  },
  {
   "cell_type": "code",
   "execution_count": 26,
   "id": "96a3b423",
   "metadata": {},
   "outputs": [
    {
     "data": {
      "text/html": [
       "<div>\n",
       "<style scoped>\n",
       "    .dataframe tbody tr th:only-of-type {\n",
       "        vertical-align: middle;\n",
       "    }\n",
       "\n",
       "    .dataframe tbody tr th {\n",
       "        vertical-align: top;\n",
       "    }\n",
       "\n",
       "    .dataframe thead th {\n",
       "        text-align: right;\n",
       "    }\n",
       "</style>\n",
       "<table border=\"1\" class=\"dataframe\">\n",
       "  <thead>\n",
       "    <tr style=\"text-align: right;\">\n",
       "      <th></th>\n",
       "      <th>publish_date</th>\n",
       "      <th>headline_category</th>\n",
       "      <th>headline_text</th>\n",
       "    </tr>\n",
       "  </thead>\n",
       "  <tbody>\n",
       "    <tr>\n",
       "      <th>20</th>\n",
       "      <td>20010102</td>\n",
       "      <td>unknown</td>\n",
       "      <td>America's unwanted heading for India?</td>\n",
       "    </tr>\n",
       "    <tr>\n",
       "      <th>26</th>\n",
       "      <td>20010102</td>\n",
       "      <td>unknown</td>\n",
       "      <td>Status quo will not be disturbed at Ayodhya; s...</td>\n",
       "    </tr>\n",
       "    <tr>\n",
       "      <th>27</th>\n",
       "      <td>20010102</td>\n",
       "      <td>unknown</td>\n",
       "      <td>Fissures in Hurriyat over Pak visit</td>\n",
       "    </tr>\n",
       "    <tr>\n",
       "      <th>28</th>\n",
       "      <td>20010102</td>\n",
       "      <td>unknown</td>\n",
       "      <td>America's unwanted heading for India?</td>\n",
       "    </tr>\n",
       "    <tr>\n",
       "      <th>29</th>\n",
       "      <td>20010102</td>\n",
       "      <td>unknown</td>\n",
       "      <td>For bigwigs; it is destination Goa</td>\n",
       "    </tr>\n",
       "    <tr>\n",
       "      <th>...</th>\n",
       "      <td>...</td>\n",
       "      <td>...</td>\n",
       "      <td>...</td>\n",
       "    </tr>\n",
       "    <tr>\n",
       "      <th>3644803</th>\n",
       "      <td>20220319</td>\n",
       "      <td>city.chennai</td>\n",
       "      <td>More Chennai women take buses for free ride</td>\n",
       "    </tr>\n",
       "    <tr>\n",
       "      <th>3644810</th>\n",
       "      <td>20220319</td>\n",
       "      <td>city.goa</td>\n",
       "      <td>Ukrainians; Russians skip Holi celebrations in...</td>\n",
       "    </tr>\n",
       "    <tr>\n",
       "      <th>3646409</th>\n",
       "      <td>20220322</td>\n",
       "      <td>city.hubballi</td>\n",
       "      <td>BJP divided over probable induction of Basavar...</td>\n",
       "    </tr>\n",
       "    <tr>\n",
       "      <th>3648598</th>\n",
       "      <td>20220327</td>\n",
       "      <td>city.chennai</td>\n",
       "      <td>Father; daughter killed in TN as e-bike on cha...</td>\n",
       "    </tr>\n",
       "    <tr>\n",
       "      <th>3649623</th>\n",
       "      <td>20220329</td>\n",
       "      <td>city.hyderabad</td>\n",
       "      <td>Telangana logs 30 new Covid cases</td>\n",
       "    </tr>\n",
       "  </tbody>\n",
       "</table>\n",
       "<p>24860 rows × 3 columns</p>\n",
       "</div>"
      ],
      "text/plain": [
       "         publish_date headline_category  \\\n",
       "20           20010102           unknown   \n",
       "26           20010102           unknown   \n",
       "27           20010102           unknown   \n",
       "28           20010102           unknown   \n",
       "29           20010102           unknown   \n",
       "...               ...               ...   \n",
       "3644803      20220319      city.chennai   \n",
       "3644810      20220319          city.goa   \n",
       "3646409      20220322     city.hubballi   \n",
       "3648598      20220327      city.chennai   \n",
       "3649623      20220329    city.hyderabad   \n",
       "\n",
       "                                             headline_text  \n",
       "20                   America's unwanted heading for India?  \n",
       "26       Status quo will not be disturbed at Ayodhya; s...  \n",
       "27                     Fissures in Hurriyat over Pak visit  \n",
       "28                   America's unwanted heading for India?  \n",
       "29                      For bigwigs; it is destination Goa  \n",
       "...                                                    ...  \n",
       "3644803        More Chennai women take buses for free ride  \n",
       "3644810  Ukrainians; Russians skip Holi celebrations in...  \n",
       "3646409  BJP divided over probable induction of Basavar...  \n",
       "3648598  Father; daughter killed in TN as e-bike on cha...  \n",
       "3649623                  Telangana logs 30 new Covid cases  \n",
       "\n",
       "[24860 rows x 3 columns]"
      ]
     },
     "execution_count": 26,
     "metadata": {},
     "output_type": "execute_result"
    }
   ],
   "source": [
    "news_data[news_data.duplicated()]"
   ]
  },
  {
   "cell_type": "code",
   "execution_count": 27,
   "id": "c1f78237",
   "metadata": {},
   "outputs": [],
   "source": [
    "news_data = news_data.drop_duplicates(inplace = False, keep = 'first')"
   ]
  },
  {
   "cell_type": "code",
   "execution_count": 29,
   "id": "c7143405",
   "metadata": {},
   "outputs": [
    {
     "data": {
      "text/plain": [
       "3626110"
      ]
     },
     "execution_count": 29,
     "metadata": {},
     "output_type": "execute_result"
    }
   ],
   "source": [
    "len(news_data)"
   ]
  },
  {
   "cell_type": "markdown",
   "id": "c812d6fd",
   "metadata": {},
   "source": [
    "merge all the news headlines belong to particular day into single string"
   ]
  },
  {
   "cell_type": "code",
   "execution_count": 30,
   "id": "9a7c6090",
   "metadata": {},
   "outputs": [],
   "source": [
    "unique = news_data.publish_date.unique()\n",
    "join = []\n",
    "for item in unique[:]:\n",
    "    join.append(' '.join(str.lower() for str in news_data[news_data.publish_date==item].headline_text.iloc[:]))\n",
    "    num = len(text_data[text_data.publish_date==item])"
   ]
  },
  {
   "cell_type": "markdown",
   "id": "9f6c527d",
   "metadata": {},
   "source": [
    "create new dataset with merged news headlines"
   ]
  },
  {
   "cell_type": "code",
   "execution_count": 33,
   "id": "654f083c",
   "metadata": {},
   "outputs": [
    {
     "data": {
      "text/html": [
       "<div>\n",
       "<style scoped>\n",
       "    .dataframe tbody tr th:only-of-type {\n",
       "        vertical-align: middle;\n",
       "    }\n",
       "\n",
       "    .dataframe tbody tr th {\n",
       "        vertical-align: top;\n",
       "    }\n",
       "\n",
       "    .dataframe thead th {\n",
       "        text-align: right;\n",
       "    }\n",
       "</style>\n",
       "<table border=\"1\" class=\"dataframe\">\n",
       "  <thead>\n",
       "    <tr style=\"text-align: right;\">\n",
       "      <th></th>\n",
       "      <th>headlines</th>\n",
       "    </tr>\n",
       "    <tr>\n",
       "      <th>Date</th>\n",
       "      <th></th>\n",
       "    </tr>\n",
       "  </thead>\n",
       "  <tbody>\n",
       "    <tr>\n",
       "      <th>2001-01-02</th>\n",
       "      <td>status quo will not be disturbed at ayodhya; s...</td>\n",
       "    </tr>\n",
       "    <tr>\n",
       "      <th>2001-01-03</th>\n",
       "      <td>powerless north india gropes in the dark think...</td>\n",
       "    </tr>\n",
       "    <tr>\n",
       "      <th>2001-01-04</th>\n",
       "      <td>the string that pulled stephen hawking to indi...</td>\n",
       "    </tr>\n",
       "    <tr>\n",
       "      <th>2001-01-05</th>\n",
       "      <td>light combat craft takes india into club class...</td>\n",
       "    </tr>\n",
       "    <tr>\n",
       "      <th>2001-01-06</th>\n",
       "      <td>light combat craft takes india into club class...</td>\n",
       "    </tr>\n",
       "  </tbody>\n",
       "</table>\n",
       "</div>"
      ],
      "text/plain": [
       "                                                    headlines\n",
       "Date                                                         \n",
       "2001-01-02  status quo will not be disturbed at ayodhya; s...\n",
       "2001-01-03  powerless north india gropes in the dark think...\n",
       "2001-01-04  the string that pulled stephen hawking to indi...\n",
       "2001-01-05  light combat craft takes india into club class...\n",
       "2001-01-06  light combat craft takes india into club class..."
      ]
     },
     "execution_count": 33,
     "metadata": {},
     "output_type": "execute_result"
    }
   ],
   "source": [
    "merged_healines = pd.Dataframe(data=join,index=unique,columns=['headlines'])\n",
    "merged_headlines['Date'] = pd.to_datetime(merged_headlines.index,format = '%Y%m%d')\n",
    "merged_headlines=merged_headlines.to_datetime('Date')\n",
    "merged_headlines.head()"
   ]
  },
  {
   "cell_type": "code",
   "execution_count": 35,
   "id": "df1b9dc0",
   "metadata": {},
   "outputs": [
    {
     "data": {
      "text/plain": [
       "0"
      ]
     },
     "execution_count": 35,
     "metadata": {},
     "output_type": "execute_result"
    }
   ],
   "source": [
    "#check for null values\n",
    "len(merged_headlines[merged_headlines.headlines.isnull()==True])"
   ]
  },
  {
   "cell_type": "code",
   "execution_count": null,
   "id": "75635a2e",
   "metadata": {},
   "outputs": [],
   "source": [
    "merged_headlines['Subjectivity'] = merged_headlines.headlines.apply(getSubjectivity)\n",
    "merged_headlines['Polarity'] = merged_headlines.headlines.apply(getPolarity)"
   ]
  },
  {
   "cell_type": "code",
   "execution_count": null,
   "id": "2e3945ff",
   "metadata": {},
   "outputs": [],
   "source": [
    "compound,neg,neu,pos = [],[],[],[]\n",
    "SIA = 0\n",
    "\n",
    "for i in range (0, len(df)):\n",
    "    SIA = getSIA(merged_headlines.headlines[i])\n",
    "    print(i)\n",
    "    compound.append(SIA['compound'])\n",
    "    neg.append(SIA['neg'])\n",
    "    neu.append(SIA['neu'])\n",
    "    pos.append(SIA['pos'])"
   ]
  },
  {
   "cell_type": "code",
   "execution_count": null,
   "id": "7073eedc",
   "metadata": {},
   "outputs": [],
   "source": [
    "merged_headlines['compound'] = compound\n",
    "merged_headlines['negative'] = neg\n",
    "merged_headlines['positive'] = pos\n",
    "merged_headlines['neutral'] = neu"
   ]
  },
  {
   "cell_type": "code",
   "execution_count": 45,
   "id": "4076aebf",
   "metadata": {},
   "outputs": [
    {
     "data": {
      "text/html": [
       "<div>\n",
       "<style scoped>\n",
       "    .dataframe tbody tr th:only-of-type {\n",
       "        vertical-align: middle;\n",
       "    }\n",
       "\n",
       "    .dataframe tbody tr th {\n",
       "        vertical-align: top;\n",
       "    }\n",
       "\n",
       "    .dataframe thead th {\n",
       "        text-align: right;\n",
       "    }\n",
       "</style>\n",
       "<table border=\"1\" class=\"dataframe\">\n",
       "  <thead>\n",
       "    <tr style=\"text-align: right;\">\n",
       "      <th></th>\n",
       "      <th>headlines</th>\n",
       "      <th>Subjectivity</th>\n",
       "      <th>Polarity</th>\n",
       "      <th>compound</th>\n",
       "      <th>negative</th>\n",
       "      <th>positive</th>\n",
       "      <th>neutral</th>\n",
       "    </tr>\n",
       "    <tr>\n",
       "      <th>Date</th>\n",
       "      <th></th>\n",
       "      <th></th>\n",
       "      <th></th>\n",
       "      <th></th>\n",
       "      <th></th>\n",
       "      <th></th>\n",
       "      <th></th>\n",
       "    </tr>\n",
       "  </thead>\n",
       "  <tbody>\n",
       "    <tr>\n",
       "      <th>2001-01-02</th>\n",
       "      <td>status quo will not be disturbed at ayodhya; s...</td>\n",
       "      <td>0.293056</td>\n",
       "      <td>0.193519</td>\n",
       "      <td>-0.9678</td>\n",
       "      <td>0.128</td>\n",
       "      <td>0.076</td>\n",
       "      <td>0.796</td>\n",
       "    </tr>\n",
       "    <tr>\n",
       "      <th>2001-01-03</th>\n",
       "      <td>powerless north india gropes in the dark think...</td>\n",
       "      <td>0.407692</td>\n",
       "      <td>0.088462</td>\n",
       "      <td>0.5940</td>\n",
       "      <td>0.117</td>\n",
       "      <td>0.123</td>\n",
       "      <td>0.761</td>\n",
       "    </tr>\n",
       "    <tr>\n",
       "      <th>2001-01-04</th>\n",
       "      <td>the string that pulled stephen hawking to indi...</td>\n",
       "      <td>0.481895</td>\n",
       "      <td>0.088034</td>\n",
       "      <td>0.9425</td>\n",
       "      <td>0.096</td>\n",
       "      <td>0.112</td>\n",
       "      <td>0.792</td>\n",
       "    </tr>\n",
       "    <tr>\n",
       "      <th>2001-01-05</th>\n",
       "      <td>light combat craft takes india into club class...</td>\n",
       "      <td>0.465542</td>\n",
       "      <td>0.257415</td>\n",
       "      <td>0.9559</td>\n",
       "      <td>0.110</td>\n",
       "      <td>0.159</td>\n",
       "      <td>0.731</td>\n",
       "    </tr>\n",
       "    <tr>\n",
       "      <th>2001-01-06</th>\n",
       "      <td>light combat craft takes india into club class...</td>\n",
       "      <td>0.464935</td>\n",
       "      <td>0.219481</td>\n",
       "      <td>-0.5574</td>\n",
       "      <td>0.165</td>\n",
       "      <td>0.133</td>\n",
       "      <td>0.702</td>\n",
       "    </tr>\n",
       "  </tbody>\n",
       "</table>\n",
       "</div>"
      ],
      "text/plain": [
       "                                                    headlines  Subjectivity  \\\n",
       "Date                                                                          \n",
       "2001-01-02  status quo will not be disturbed at ayodhya; s...      0.293056   \n",
       "2001-01-03  powerless north india gropes in the dark think...      0.407692   \n",
       "2001-01-04  the string that pulled stephen hawking to indi...      0.481895   \n",
       "2001-01-05  light combat craft takes india into club class...      0.465542   \n",
       "2001-01-06  light combat craft takes india into club class...      0.464935   \n",
       "\n",
       "            Polarity  compound  negative  positive  neutral  \n",
       "Date                                                         \n",
       "2001-01-02  0.193519   -0.9678     0.128     0.076    0.796  \n",
       "2001-01-03  0.088462    0.5940     0.117     0.123    0.761  \n",
       "2001-01-04  0.088034    0.9425     0.096     0.112    0.792  \n",
       "2001-01-05  0.257415    0.9559     0.110     0.159    0.731  \n",
       "2001-01-06  0.219481   -0.5574     0.165     0.133    0.702  "
      ]
     },
     "execution_count": 45,
     "metadata": {},
     "output_type": "execute_result"
    }
   ],
   "source": [
    "merged_headlines.head()"
   ]
  },
  {
   "cell_type": "markdown",
   "id": "02212b82",
   "metadata": {},
   "source": [
    "## Merge stock price data and news headlines data"
   ]
  },
  {
   "cell_type": "code",
   "execution_count": 47,
   "id": "a1fa63f2",
   "metadata": {
    "scrolled": true
   },
   "outputs": [
    {
     "data": {
      "text/html": [
       "<div>\n",
       "<style scoped>\n",
       "    .dataframe tbody tr th:only-of-type {\n",
       "        vertical-align: middle;\n",
       "    }\n",
       "\n",
       "    .dataframe tbody tr th {\n",
       "        vertical-align: top;\n",
       "    }\n",
       "\n",
       "    .dataframe thead th {\n",
       "        text-align: right;\n",
       "    }\n",
       "</style>\n",
       "<table border=\"1\" class=\"dataframe\">\n",
       "  <thead>\n",
       "    <tr style=\"text-align: right;\">\n",
       "      <th></th>\n",
       "      <th>Open</th>\n",
       "      <th>High</th>\n",
       "      <th>Low</th>\n",
       "      <th>Close</th>\n",
       "      <th>Adj Close</th>\n",
       "      <th>Volume</th>\n",
       "      <th>5_dayRolling</th>\n",
       "      <th>20_dayRolling</th>\n",
       "      <th>65_dayRolling</th>\n",
       "      <th>month</th>\n",
       "      <th>day</th>\n",
       "      <th>dayofweek</th>\n",
       "      <th>week</th>\n",
       "      <th>headlines</th>\n",
       "      <th>Subjectivity</th>\n",
       "      <th>Polarity</th>\n",
       "      <th>compound</th>\n",
       "      <th>negative</th>\n",
       "      <th>positive</th>\n",
       "      <th>neutral</th>\n",
       "    </tr>\n",
       "    <tr>\n",
       "      <th>Date</th>\n",
       "      <th></th>\n",
       "      <th></th>\n",
       "      <th></th>\n",
       "      <th></th>\n",
       "      <th></th>\n",
       "      <th></th>\n",
       "      <th></th>\n",
       "      <th></th>\n",
       "      <th></th>\n",
       "      <th></th>\n",
       "      <th></th>\n",
       "      <th></th>\n",
       "      <th></th>\n",
       "      <th></th>\n",
       "      <th></th>\n",
       "      <th></th>\n",
       "      <th></th>\n",
       "      <th></th>\n",
       "      <th></th>\n",
       "      <th></th>\n",
       "    </tr>\n",
       "  </thead>\n",
       "  <tbody>\n",
       "    <tr>\n",
       "      <th>2001-01-02</th>\n",
       "      <td>3953.219971</td>\n",
       "      <td>4028.570068</td>\n",
       "      <td>3929.370117</td>\n",
       "      <td>4018.879883</td>\n",
       "      <td>4018.879883</td>\n",
       "      <td>0</td>\n",
       "      <td>4018.879883</td>\n",
       "      <td>4018.879883</td>\n",
       "      <td>4018.879883</td>\n",
       "      <td>1</td>\n",
       "      <td>2</td>\n",
       "      <td>1</td>\n",
       "      <td>1</td>\n",
       "      <td>status quo will not be disturbed at ayodhya; s...</td>\n",
       "      <td>0.293056</td>\n",
       "      <td>0.193519</td>\n",
       "      <td>-0.9678</td>\n",
       "      <td>0.128</td>\n",
       "      <td>0.076</td>\n",
       "      <td>0.796</td>\n",
       "    </tr>\n",
       "    <tr>\n",
       "      <th>2001-01-03</th>\n",
       "      <td>3977.580078</td>\n",
       "      <td>4067.659912</td>\n",
       "      <td>3977.580078</td>\n",
       "      <td>4060.020020</td>\n",
       "      <td>4060.020020</td>\n",
       "      <td>0</td>\n",
       "      <td>4039.449951</td>\n",
       "      <td>4039.449951</td>\n",
       "      <td>4039.449951</td>\n",
       "      <td>1</td>\n",
       "      <td>3</td>\n",
       "      <td>2</td>\n",
       "      <td>1</td>\n",
       "      <td>powerless north india gropes in the dark think...</td>\n",
       "      <td>0.407692</td>\n",
       "      <td>0.088462</td>\n",
       "      <td>0.5940</td>\n",
       "      <td>0.117</td>\n",
       "      <td>0.123</td>\n",
       "      <td>0.761</td>\n",
       "    </tr>\n",
       "    <tr>\n",
       "      <th>2001-01-04</th>\n",
       "      <td>4180.970215</td>\n",
       "      <td>4180.970215</td>\n",
       "      <td>4109.549805</td>\n",
       "      <td>4115.370117</td>\n",
       "      <td>4115.370117</td>\n",
       "      <td>0</td>\n",
       "      <td>4064.756673</td>\n",
       "      <td>4064.756673</td>\n",
       "      <td>4064.756673</td>\n",
       "      <td>1</td>\n",
       "      <td>4</td>\n",
       "      <td>3</td>\n",
       "      <td>1</td>\n",
       "      <td>the string that pulled stephen hawking to indi...</td>\n",
       "      <td>0.481895</td>\n",
       "      <td>0.088034</td>\n",
       "      <td>0.9425</td>\n",
       "      <td>0.096</td>\n",
       "      <td>0.112</td>\n",
       "      <td>0.792</td>\n",
       "    </tr>\n",
       "    <tr>\n",
       "      <th>2001-01-05</th>\n",
       "      <td>4116.339844</td>\n",
       "      <td>4195.009766</td>\n",
       "      <td>4115.350098</td>\n",
       "      <td>4183.729980</td>\n",
       "      <td>4183.729980</td>\n",
       "      <td>0</td>\n",
       "      <td>4094.500000</td>\n",
       "      <td>4094.500000</td>\n",
       "      <td>4094.500000</td>\n",
       "      <td>1</td>\n",
       "      <td>5</td>\n",
       "      <td>4</td>\n",
       "      <td>1</td>\n",
       "      <td>light combat craft takes india into club class...</td>\n",
       "      <td>0.465542</td>\n",
       "      <td>0.257415</td>\n",
       "      <td>0.9559</td>\n",
       "      <td>0.110</td>\n",
       "      <td>0.159</td>\n",
       "      <td>0.731</td>\n",
       "    </tr>\n",
       "    <tr>\n",
       "      <th>2001-01-08</th>\n",
       "      <td>4164.759766</td>\n",
       "      <td>4206.720215</td>\n",
       "      <td>4101.529785</td>\n",
       "      <td>4120.430176</td>\n",
       "      <td>4120.430176</td>\n",
       "      <td>0</td>\n",
       "      <td>4099.686035</td>\n",
       "      <td>4099.686035</td>\n",
       "      <td>4099.686035</td>\n",
       "      <td>1</td>\n",
       "      <td>8</td>\n",
       "      <td>0</td>\n",
       "      <td>2</td>\n",
       "      <td>sangh parivar; babri panel up the ante frontru...</td>\n",
       "      <td>0.436176</td>\n",
       "      <td>0.016234</td>\n",
       "      <td>-0.7506</td>\n",
       "      <td>0.114</td>\n",
       "      <td>0.092</td>\n",
       "      <td>0.794</td>\n",
       "    </tr>\n",
       "  </tbody>\n",
       "</table>\n",
       "</div>"
      ],
      "text/plain": [
       "                   Open         High          Low        Close    Adj Close  \\\n",
       "Date                                                                          \n",
       "2001-01-02  3953.219971  4028.570068  3929.370117  4018.879883  4018.879883   \n",
       "2001-01-03  3977.580078  4067.659912  3977.580078  4060.020020  4060.020020   \n",
       "2001-01-04  4180.970215  4180.970215  4109.549805  4115.370117  4115.370117   \n",
       "2001-01-05  4116.339844  4195.009766  4115.350098  4183.729980  4183.729980   \n",
       "2001-01-08  4164.759766  4206.720215  4101.529785  4120.430176  4120.430176   \n",
       "\n",
       "            Volume  5_dayRolling  20_dayRolling  65_dayRolling  month  day  \\\n",
       "Date                                                                         \n",
       "2001-01-02       0   4018.879883    4018.879883    4018.879883      1    2   \n",
       "2001-01-03       0   4039.449951    4039.449951    4039.449951      1    3   \n",
       "2001-01-04       0   4064.756673    4064.756673    4064.756673      1    4   \n",
       "2001-01-05       0   4094.500000    4094.500000    4094.500000      1    5   \n",
       "2001-01-08       0   4099.686035    4099.686035    4099.686035      1    8   \n",
       "\n",
       "            dayofweek  week  \\\n",
       "Date                          \n",
       "2001-01-02          1     1   \n",
       "2001-01-03          2     1   \n",
       "2001-01-04          3     1   \n",
       "2001-01-05          4     1   \n",
       "2001-01-08          0     2   \n",
       "\n",
       "                                                    headlines  Subjectivity  \\\n",
       "Date                                                                          \n",
       "2001-01-02  status quo will not be disturbed at ayodhya; s...      0.293056   \n",
       "2001-01-03  powerless north india gropes in the dark think...      0.407692   \n",
       "2001-01-04  the string that pulled stephen hawking to indi...      0.481895   \n",
       "2001-01-05  light combat craft takes india into club class...      0.465542   \n",
       "2001-01-08  sangh parivar; babri panel up the ante frontru...      0.436176   \n",
       "\n",
       "            Polarity  compound  negative  positive  neutral  \n",
       "Date                                                         \n",
       "2001-01-02  0.193519   -0.9678     0.128     0.076    0.796  \n",
       "2001-01-03  0.088462    0.5940     0.117     0.123    0.761  \n",
       "2001-01-04  0.088034    0.9425     0.096     0.112    0.792  \n",
       "2001-01-05  0.257415    0.9559     0.110     0.159    0.731  \n",
       "2001-01-08  0.016234   -0.7506     0.114     0.092    0.794  "
      ]
     },
     "execution_count": 47,
     "metadata": {},
     "output_type": "execute_result"
    }
   ],
   "source": [
    "merged_data = pd.merge(stock_data,merged_headlines,how='inner',on='Date')\n",
    "merged_data.head()"
   ]
  },
  {
   "cell_type": "markdown",
   "id": "bffcdd3b",
   "metadata": {},
   "source": [
    "## Train Model for Prediction"
   ]
  },
  {
   "cell_type": "code",
   "execution_count": 55,
   "id": "b34e5ec4",
   "metadata": {},
   "outputs": [],
   "source": [
    "X = merged_data.drop(['headlines','Close'],axis=1)\n",
    "y = merged_data.Close"
   ]
  },
  {
   "cell_type": "code",
   "execution_count": 71,
   "id": "c50750b6",
   "metadata": {},
   "outputs": [
    {
     "data": {
      "text/plain": [
       "((5145, 18), (5145,), (60, 18), (60,))"
      ]
     },
     "execution_count": 71,
     "metadata": {},
     "output_type": "execute_result"
    }
   ],
   "source": [
    "X_train,X_test,y_train,y_test = X[:-60],X[-60:],y[:-60],y[-60:]\n",
    "X_train.shape, y_train.shape, X_test.shape, y_test.shape"
   ]
  },
  {
   "cell_type": "code",
   "execution_count": 72,
   "id": "d220c341",
   "metadata": {},
   "outputs": [
    {
     "data": {
      "text/plain": [
       "RandomForestRegressor(n_estimators=500)"
      ]
     },
     "execution_count": 72,
     "metadata": {},
     "output_type": "execute_result"
    }
   ],
   "source": [
    "rfg = RandomForestRegressor(n_estimators = 500, criterion='mse')\n",
    "rfg.fit(X_train,y_train)"
   ]
  },
  {
   "cell_type": "code",
   "execution_count": 90,
   "id": "c3035bd1",
   "metadata": {},
   "outputs": [],
   "source": [
    "rf_pred = rfg.predict(X_test)\n",
    "\n",
    "c = []\n",
    "for i in range(len(rf_pred)):\n",
    "    c.append([y_test.values[i], rf_pred[i]])\n",
    "\n",
    "result = pd.DataFrame(data =c,columns = ['Actual Close Price','Predicted Close Price'],index = X_test.index)"
   ]
  },
  {
   "cell_type": "code",
   "execution_count": 103,
   "id": "8c12b464",
   "metadata": {},
   "outputs": [
    {
     "data": {
      "text/plain": [
       "<matplotlib.legend.Legend at 0x219981cd880>"
      ]
     },
     "execution_count": 103,
     "metadata": {},
     "output_type": "execute_result"
    },
    {
     "data": {
      "image/png": "[encoded data removed]",
      "text/plain": [
       "<Figure size 3200x1600 with 1 Axes>"
      ]
     },
     "metadata": {
      "needs_background": "light"
     },
     "output_type": "display_data"
    }
   ],
   "source": [
    "plt.rcParams['figure.figsize']=(16,8)\n",
    "plt.rcParams['figure.dpi']=200\n",
    "plt.plot(result['Actual Close Price'],label='Actual Close Price',lw =3)\n",
    "plt.plot(result['Predicted Close Price'],label='Predicted Close Price',lw =3)\n",
    "plt.legend(loc='upper right')"
   ]
  },
  {
   "cell_type": "code",
   "execution_count": 104,
   "id": "449b0e7f",
   "metadata": {},
   "outputs": [
    {
     "name": "stdout",
     "output_type": "stream",
     "text": [
      "RF rmse :  258.89287203261796\n"
     ]
    }
   ],
   "source": [
    "rmse_rf = sqrt(mean_squared_error(rf_pred,y_test.values))\n",
    "print('RF rmse : ',rmse_rf)"
   ]
  }
 ],
 "metadata": {
  "kernelspec": {
   "display_name": "Python 3",
   "language": "python",
   "name": "python3"
  },
  "language_info": {
   "codemirror_mode": {
    "name": "ipython",
    "version": 3
   },
   "file_extension": ".py",
   "mimetype": "text/x-python",
   "name": "python",
   "nbconvert_exporter": "python",
   "pygments_lexer": "ipython3",
   "version": "3.8.8"
  }
 },
 "nbformat": 4,
 "nbformat_minor": 5
}
